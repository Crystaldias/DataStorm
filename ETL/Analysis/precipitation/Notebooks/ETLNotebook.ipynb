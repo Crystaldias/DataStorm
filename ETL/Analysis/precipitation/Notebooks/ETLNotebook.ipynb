{
 "cells": [
  {
   "cell_type": "markdown",
   "metadata": {},
   "source": [
    "# Big Data - Datastorm"
   ]
  },
  {
   "cell_type": "markdown",
   "metadata": {},
   "source": [
    "## Initializing Spark"
   ]
  },
  {
   "cell_type": "code",
   "execution_count": 1,
   "metadata": {},
   "outputs": [
    {
     "name": "stdout",
     "output_type": "stream",
     "text": [
      "22/11/16 22:24:11 WARN Utils: Your hostname, Karishmas-MacBook-Pro-2.local resolves to a loopback address: 127.0.0.1; using 192.168.1.145 instead (on interface en0)\n",
      "22/11/16 22:24:11 WARN Utils: Set SPARK_LOCAL_IP if you need to bind to another address\n"
     ]
    },
    {
     "name": "stderr",
     "output_type": "stream",
     "text": [
      "Setting default log level to \"WARN\".\n",
      "To adjust logging level use sc.setLogLevel(newLevel). For SparkR, use setLogLevel(newLevel).\n"
     ]
    },
    {
     "name": "stdout",
     "output_type": "stream",
     "text": [
      "22/11/16 22:24:12 WARN NativeCodeLoader: Unable to load native-hadoop library for your platform... using builtin-java classes where applicable\n"
     ]
    }
   ],
   "source": [
    "# pip install pyspark\n",
    "from pyspark.sql import SparkSession, functions, types, Column, Row\n",
    "\n",
    "spark = (SparkSession\n",
    "  .builder\n",
    "  .appName(\"Datastorm\")\n",
    "  .getOrCreate())\n",
    "sc = spark.sparkContext"
   ]
  },
  {
   "cell_type": "markdown",
   "metadata": {},
   "source": [
    "## Data Preparation"
   ]
  },
  {
   "cell_type": "markdown",
   "metadata": {},
   "source": [
    "## ETL - Phase 1 - Extract "
   ]
  },
  {
   "cell_type": "markdown",
   "metadata": {},
   "source": [
    "### 1. Loading The Different Sets of Data"
   ]
  },
  {
   "cell_type": "markdown",
   "metadata": {},
   "source": [
    "#### 1.1 GHCN Daily Data"
   ]
  },
  {
   "cell_type": "markdown",
   "metadata": {},
   "source": [
    "Loading the data using pyspark and specifying the required schema"
   ]
  },
  {
   "cell_type": "code",
   "execution_count": 2,
   "metadata": {},
   "outputs": [
    {
     "name": "stderr",
     "output_type": "stream",
     "text": [
      "[Stage 0:>                                                          (0 + 1) / 1]\r"
     ]
    },
    {
     "name": "stdout",
     "output_type": "stream",
     "text": [
      "+-----------+--------+-----------+-----+-----+-----+-----+-------+\n",
      "|    station|    date|observation|value|mflag|qflag|sflag|obstime|\n",
      "+-----------+--------+-----------+-----+-----+-----+-----+-------+\n",
      "|US1NHST0018|20100101|       PRCP|   15| null| null|    N|   null|\n",
      "|US1NHST0018|20100101|       SNOW|   20| null| null|    N|   null|\n",
      "|US1NHST0018|20100101|       WESF|   13| null| null|    N|   null|\n",
      "|US1NJSS0023|20100101|       PRCP|   76| null| null|    N|   null|\n",
      "|US1NJSS0023|20100101|       SNOW|   81| null| null|    N|   null|\n",
      "|US1NJSS0023|20100101|       SNWD|   76| null| null|    N|   null|\n",
      "|US1NJSS0023|20100101|       WESD|   76| null| null|    N|   null|\n",
      "|US1NJSS0023|20100101|       WESF|   76| null| null|    N|   null|\n",
      "|ASN00015643|20100101|       TMAX|  414| null| null|    a|   null|\n",
      "|ASN00015643|20100101|       TMIN|  254| null| null|    a|   null|\n",
      "|ASN00015643|20100101|       PRCP|    0| null| null|    a|   null|\n",
      "|US1NCTR0002|20100101|       PRCP|    3| null| null|    N|   null|\n",
      "|ASN00085296|20100101|       TMAX|  277| null| null|    a|   null|\n",
      "|ASN00085296|20100101|       TMIN|  170| null| null|    a|   null|\n",
      "|ASN00085296|20100101|       PRCP|   58| null| null|    a|   null|\n",
      "|US1NCMC0007|20100101|       PRCP|   15| null| null|    N|   null|\n",
      "|US1NCMC0007|20100101|       SNWD|    0| null| null|    N|   null|\n",
      "|US1NCMK0016|20100101|       PRCP|    3| null| null|    N|   null|\n",
      "|ASN00085280|20100101|       TMAX|  256| null| null|    a|   null|\n",
      "|ASN00085280|20100101|       TMIN|  186| null| null|    a|   null|\n",
      "+-----------+--------+-----------+-----+-----+-----+-----+-------+\n",
      "only showing top 20 rows\n",
      "\n"
     ]
    },
    {
     "name": "stderr",
     "output_type": "stream",
     "text": [
      "                                                                                \r"
     ]
    }
   ],
   "source": [
    "ghcn_data = 'data/ghcn'\n",
    "\n",
    "observation_schema = types.StructType([\n",
    "types.StructField('station', types.StringType()),\n",
    "types.StructField('date', types.StringType()),\n",
    "types.StructField('observation', types.StringType()),\n",
    "types.StructField('value', types.IntegerType()),\n",
    "types.StructField('mflag', types.StringType()),\n",
    "types.StructField('qflag', types.StringType()),\n",
    "types.StructField('sflag', types.StringType()),\n",
    "types.StructField('obstime', types.StringType()),\n",
    "])\n",
    "\n",
    "\n",
    "ghcn_df = spark.read.csv(ghcn_data, schema = observation_schema)\n",
    "\n",
    "\n",
    "ghcn_df.show()"
   ]
  },
  {
   "cell_type": "markdown",
   "metadata": {},
   "source": [
    "#### 1.2 GHCN Station Data"
   ]
  },
  {
   "cell_type": "markdown",
   "metadata": {},
   "source": [
    "Loading the data using pyspark and specifying the required schema"
   ]
  },
  {
   "cell_type": "code",
   "execution_count": 3,
   "metadata": {},
   "outputs": [],
   "source": [
    "import re"
   ]
  },
  {
   "cell_type": "code",
   "execution_count": 4,
   "metadata": {},
   "outputs": [],
   "source": [
    "def stations_schema():\n",
    "    return types.StructType([\n",
    "        types.StructField(\"Station ID\", types.StringType()),\n",
    "        types.StructField(\"Latitude\", types.FloatType()),\n",
    "        types.StructField(\"Longitude\", types.FloatType()),\n",
    "        types.StructField(\"Elevation\", types.FloatType()),\n",
    "        types.StructField(\"State\", types.StringType()),\n",
    "        types.StructField(\"Station Name\", types.StringType()),\n",
    "        #types.StructField(\"gsn_flag\", types.StringType()),\n",
    "        #types.StructField(\"crn_flag\", types.StringType()),\n",
    "        #types.StructField(\"wmo_id\", types.StringType()),\n",
    "    ])"
   ]
  },
  {
   "cell_type": "code",
   "execution_count": 5,
   "metadata": {},
   "outputs": [],
   "source": [
    "def parse_line(line):\n",
    "    id = '(\\S+)'\n",
    "    latitude = '([-+]?(?:\\d*\\.\\d+|\\d+))'\n",
    "    longitude = '([-+]?(?:\\d*\\.\\d+|\\d+))'\n",
    "    elevation = '([-+]?(?:\\d*\\.\\d+|\\d+))'\n",
    "    state = '([-a-zA-Z0-9_][-a-zA-Z0-9_])'\n",
    "    name = '((\\S+\\s)+)'\n",
    "    delimiter = '\\s+'\n",
    "    any = \".*\"\n",
    "    line_re = re.compile(r'^'+ id + delimiter + latitude + delimiter + longitude + delimiter + elevation + delimiter + state + delimiter + name + any + '$')\n",
    "    splitted_line = re.match(line_re, line)\n",
    "    return Row(splitted_line.group(1), float(splitted_line.group(2)), float(splitted_line.group(3)), float(splitted_line.group(4)), splitted_line.group(5), splitted_line.group(6))"
   ]
  },
  {
   "cell_type": "code",
   "execution_count": 20,
   "metadata": {},
   "outputs": [
    {
     "name": "stdout",
     "output_type": "stream",
     "text": [
      "+-----------+--------+---------+---------+-----+--------------------+\n",
      "| Station ID|Latitude|Longitude|Elevation|State|        Station Name|\n",
      "+-----------+--------+---------+---------+-----+--------------------+\n",
      "|CA001010066| 48.8667|-123.2833|      4.0|   BC|        ACTIVE PASS |\n",
      "|CA001010235|    48.4|-123.4833|     17.0|   BC|        ALBERT HEAD |\n",
      "|CA001010595| 48.5833|-123.5167|     85.0|   BC|BAMBERTON OCEAN C...|\n",
      "|CA001010720|    48.5|   -124.0|    351.0|   BC|         BEAR CREEK |\n",
      "|CA001010774|    48.5|  -123.35|     61.0|   BC|        BEAVER LAKE |\n",
      "|CA001010780| 48.3333|-123.6333|     12.0|   BC|         BECHER BAY |\n",
      "|CA001010960|    48.6|-123.4667|     38.0|   BC|    BRENTWOOD BAY 2 |\n",
      "|CA001010961| 48.5667|  -123.45|     31.0|   BC|BRENTWOOD CLARKE ...|\n",
      "|CA001010965| 48.5667|-123.4333|     91.0|   BC|BRENTWOOD W SAANI...|\n",
      "|CA001011467| 48.5833|-123.4167|     53.0|   BC|CENTRAL SAANICH V...|\n",
      "|CA0010114F6| 48.5667|   -123.4|     38.0|   BC|CENTRAL SAANICH I...|\n",
      "|CA0010114FF|   48.55|   -123.4|     88.0|   BC|CENTRAL SAANICH T...|\n",
      "|CA001011500| 48.9333|  -123.75|     75.0|   BC|          CHEMAINUS |\n",
      "|CA001011743| 48.6833|   -123.6|     99.0|   BC|        COBBLE HILL |\n",
      "|CA001011745|   48.65|-123.5667|     61.0|   BC|COBBLE HILL DELOU...|\n",
      "|CA001011775|   48.65|   -123.4|     37.0|   BC|           COLE BAY |\n",
      "|CA001011810| 48.4167|-123.4833|     76.0|   BC|  COLWOOD HATLEY DR |\n",
      "|CA001011860| 48.8333|-123.8333|    177.0|   BC|      COPPER CANYON |\n",
      "|CA001011920| 48.5333|-123.3667|     37.0|   BC|        CORDOVA BAY |\n",
      "|CA001011922| 48.5167|-123.3667|     26.0|   BC|  CORDOVA BAY SOUTH |\n",
      "+-----------+--------+---------+---------+-----+--------------------+\n",
      "only showing top 20 rows\n",
      "\n",
      "+-----------+--------+---------+---------+-----+--------------------+\n",
      "| Station ID|Latitude|Longitude|Elevation|State|        Station Name|\n",
      "+-----------+--------+---------+---------+-----+--------------------+\n",
      "|CA001010066| 48.8667|-123.2833|      4.0|   BC|        ACTIVE PASS |\n",
      "|CA001010235|    48.4|-123.4833|     17.0|   BC|        ALBERT HEAD |\n",
      "|CA001010595| 48.5833|-123.5167|     85.0|   BC|BAMBERTON OCEAN C...|\n",
      "|CA001010720|    48.5|   -124.0|    351.0|   BC|         BEAR CREEK |\n",
      "|CA001010774|    48.5|  -123.35|     61.0|   BC|        BEAVER LAKE |\n",
      "|CA001010780| 48.3333|-123.6333|     12.0|   BC|         BECHER BAY |\n",
      "|CA001010960|    48.6|-123.4667|     38.0|   BC|    BRENTWOOD BAY 2 |\n",
      "|CA001010961| 48.5667|  -123.45|     31.0|   BC|BRENTWOOD CLARKE ...|\n",
      "|CA001010965| 48.5667|-123.4333|     91.0|   BC|BRENTWOOD W SAANI...|\n",
      "|CA001011467| 48.5833|-123.4167|     53.0|   BC|CENTRAL SAANICH V...|\n",
      "|CA0010114F6| 48.5667|   -123.4|     38.0|   BC|CENTRAL SAANICH I...|\n",
      "|CA0010114FF|   48.55|   -123.4|     88.0|   BC|CENTRAL SAANICH T...|\n",
      "|CA001011500| 48.9333|  -123.75|     75.0|   BC|          CHEMAINUS |\n",
      "|CA001011743| 48.6833|   -123.6|     99.0|   BC|        COBBLE HILL |\n",
      "|CA001011745|   48.65|-123.5667|     61.0|   BC|COBBLE HILL DELOU...|\n",
      "|CA001011775|   48.65|   -123.4|     37.0|   BC|           COLE BAY |\n",
      "|CA001011810| 48.4167|-123.4833|     76.0|   BC|  COLWOOD HATLEY DR |\n",
      "|CA001011860| 48.8333|-123.8333|    177.0|   BC|      COPPER CANYON |\n",
      "|CA001011920| 48.5333|-123.3667|     37.0|   BC|        CORDOVA BAY |\n",
      "|CA001011922| 48.5167|-123.3667|     26.0|   BC|  CORDOVA BAY SOUTH |\n",
      "+-----------+--------+---------+---------+-----+--------------------+\n",
      "only showing top 20 rows\n",
      "\n"
     ]
    }
   ],
   "source": [
    "stations_input = sc.textFile(\"data/ghcnd-stations.txt\")\n",
    "formatted_lines = stations_input.filter(lambda line: line.startswith(\"CA\")).map(parse_line)\n",
    "cleaned_stations = spark.createDataFrame(data=formatted_lines, schema = stations_schema())\n",
    "cleaned_stations.show()\n",
    "\n",
    "canada_stations_dataframes = cleaned_stations\n",
    "canada_stations_dataframes.show()"
   ]
  },
  {
   "cell_type": "markdown",
   "metadata": {},
   "source": [
    "## ETL - Phase 2 - Transform"
   ]
  },
  {
   "cell_type": "markdown",
   "metadata": {},
   "source": [
    "### GHCN Daily Data"
   ]
  },
  {
   "cell_type": "markdown",
   "metadata": {},
   "source": [
    "#### 2.1 Extracting Only Canada Data Using Station Name"
   ]
  },
  {
   "cell_type": "code",
   "execution_count": 21,
   "metadata": {},
   "outputs": [
    {
     "name": "stdout",
     "output_type": "stream",
     "text": [
      "+-----------+--------+-----------+-----+-----+-----+-----+-------+\n",
      "|    station|    date|observation|value|mflag|qflag|sflag|obstime|\n",
      "+-----------+--------+-----------+-----+-----+-----+-----+-------+\n",
      "|CA007020860|20100101|       TMAX|    0| null| null|    C|   null|\n",
      "|CA007020860|20100101|       TMIN|  -50| null| null|    C|   null|\n",
      "|CA007020860|20100101|       PRCP|   30| null| null|    C|   null|\n",
      "|CA007020860|20100101|       SNOW|   30| null| null|    C|   null|\n",
      "|CA007020860|20100101|       SNWD|  120| null| null|    C|   null|\n",
      "|CA005030984|20100101|       TMAX| -234| null| null|    C|   null|\n",
      "|CA005030984|20100101|       TMIN| -276| null| null|    C|   null|\n",
      "|CA005030984|20100101|       PRCP|   13| null| null|    C|   null|\n",
      "|CA005030984|20100101|       SNWD|  380| null| null|    C|   null|\n",
      "|CA005023225|20100101|       PRCP|    0| null| null|    C|   null|\n",
      "|CA005023225|20100101|       SNOW|    0| null| null|    C|   null|\n",
      "|CA005023225|20100101|       SNWD|  200| null| null|    C|   null|\n",
      "|CA003076680|20100101|       TMAX| -168| null| null|    C|   null|\n",
      "|CA003076680|20100101|       TMIN| -222| null| null|    C|   null|\n",
      "|CA003076680|20100101|       PRCP|    4| null| null|    C|   null|\n",
      "|CA00306A009|20100101|       TMAX| -152| null| null|    C|   null|\n",
      "|CA00306A009|20100101|       TMIN| -243| null| null|    C|   null|\n",
      "|CA00306A009|20100101|       PRCP|    0| null| null|    C|   null|\n",
      "|CA00306A009|20100101|       SNOW|    0| null| null|    C|   null|\n",
      "|CA00306A009|20100101|       SNWD|  300| null| null|    C|   null|\n",
      "+-----------+--------+-----------+-----+-----+-----+-----+-------+\n",
      "only showing top 20 rows\n",
      "\n"
     ]
    }
   ],
   "source": [
    "canada_weather_data = ghcn_df.filter(ghcn_df.station.startswith('CA'))\n",
    "canada_weather_data.show()"
   ]
  },
  {
   "cell_type": "markdown",
   "metadata": {},
   "source": [
    "####     2.2 Checking for & Removing Unnecessary Columns"
   ]
  },
  {
   "cell_type": "markdown",
   "metadata": {},
   "source": [
    "mflag indicates measurement flags that are not required for this study."
   ]
  },
  {
   "cell_type": "markdown",
   "metadata": {},
   "source": [
    "sflag indicates the source of the data collected which is also not required for this study. "
   ]
  },
  {
   "cell_type": "markdown",
   "metadata": {},
   "source": [
    "obstime indicates the time at which the data was recorded and can be dropped as well."
   ]
  },
  {
   "cell_type": "code",
   "execution_count": 22,
   "metadata": {},
   "outputs": [
    {
     "name": "stdout",
     "output_type": "stream",
     "text": [
      "+-----------+--------+-----------+-----+-----+\n",
      "|    station|    date|observation|value|qflag|\n",
      "+-----------+--------+-----------+-----+-----+\n",
      "|CA007020860|20100101|       TMAX|    0| null|\n",
      "|CA007020860|20100101|       TMIN|  -50| null|\n",
      "|CA007020860|20100101|       PRCP|   30| null|\n",
      "|CA007020860|20100101|       SNOW|   30| null|\n",
      "|CA007020860|20100101|       SNWD|  120| null|\n",
      "|CA005030984|20100101|       TMAX| -234| null|\n",
      "|CA005030984|20100101|       TMIN| -276| null|\n",
      "|CA005030984|20100101|       PRCP|   13| null|\n",
      "|CA005030984|20100101|       SNWD|  380| null|\n",
      "|CA005023225|20100101|       PRCP|    0| null|\n",
      "|CA005023225|20100101|       SNOW|    0| null|\n",
      "|CA005023225|20100101|       SNWD|  200| null|\n",
      "|CA003076680|20100101|       TMAX| -168| null|\n",
      "|CA003076680|20100101|       TMIN| -222| null|\n",
      "|CA003076680|20100101|       PRCP|    4| null|\n",
      "|CA00306A009|20100101|       TMAX| -152| null|\n",
      "|CA00306A009|20100101|       TMIN| -243| null|\n",
      "|CA00306A009|20100101|       PRCP|    0| null|\n",
      "|CA00306A009|20100101|       SNOW|    0| null|\n",
      "|CA00306A009|20100101|       SNWD|  300| null|\n",
      "+-----------+--------+-----------+-----+-----+\n",
      "only showing top 20 rows\n",
      "\n"
     ]
    }
   ],
   "source": [
    "canada_weather_data = canada_weather_data.drop(\"sflag\", \"mflag\", \"obstime\")\n",
    "canada_weather_data.show()"
   ]
  },
  {
   "cell_type": "markdown",
   "metadata": {},
   "source": [
    "#### 2.3 Checking for & Eliminating Duplicates/Insufficienes in Data"
   ]
  },
  {
   "cell_type": "markdown",
   "metadata": {},
   "source": [
    "qflag being null indicates that the specific data entry did not pass all of the necessary quality checks. In order to ensure that the data we use is of the highest quality, we eliminate any rows that do not satisfy this condition."
   ]
  },
  {
   "cell_type": "code",
   "execution_count": 23,
   "metadata": {},
   "outputs": [
    {
     "name": "stdout",
     "output_type": "stream",
     "text": [
      "+-----------+--------+-----------+-----+-----+\n",
      "|    station|    date|observation|value|qflag|\n",
      "+-----------+--------+-----------+-----+-----+\n",
      "|CA007020860|20100101|       TMAX|    0| null|\n",
      "|CA007020860|20100101|       TMIN|  -50| null|\n",
      "|CA007020860|20100101|       PRCP|   30| null|\n",
      "|CA007020860|20100101|       SNOW|   30| null|\n",
      "|CA007020860|20100101|       SNWD|  120| null|\n",
      "|CA005030984|20100101|       TMAX| -234| null|\n",
      "|CA005030984|20100101|       TMIN| -276| null|\n",
      "|CA005030984|20100101|       PRCP|   13| null|\n",
      "|CA005030984|20100101|       SNWD|  380| null|\n",
      "|CA005023225|20100101|       PRCP|    0| null|\n",
      "|CA005023225|20100101|       SNOW|    0| null|\n",
      "|CA005023225|20100101|       SNWD|  200| null|\n",
      "|CA003076680|20100101|       TMAX| -168| null|\n",
      "|CA003076680|20100101|       TMIN| -222| null|\n",
      "|CA003076680|20100101|       PRCP|    4| null|\n",
      "|CA00306A009|20100101|       TMAX| -152| null|\n",
      "|CA00306A009|20100101|       TMIN| -243| null|\n",
      "|CA00306A009|20100101|       PRCP|    0| null|\n",
      "|CA00306A009|20100101|       SNOW|    0| null|\n",
      "|CA00306A009|20100101|       SNWD|  300| null|\n",
      "+-----------+--------+-----------+-----+-----+\n",
      "only showing top 20 rows\n",
      "\n"
     ]
    }
   ],
   "source": [
    "canada_weather_data = canada_weather_data.filter(canada_weather_data['qflag'].isNull())\n",
    "canada_weather_data.show()\n"
   ]
  },
  {
   "cell_type": "code",
   "execution_count": 24,
   "metadata": {},
   "outputs": [],
   "source": [
    "canada_weather_data = canada_weather_data.drop('qflag')"
   ]
  },
  {
   "cell_type": "code",
   "execution_count": 25,
   "metadata": {},
   "outputs": [
    {
     "name": "stdout",
     "output_type": "stream",
     "text": [
      "+-----------+--------+-----------+-----+\n",
      "|    station|    date|observation|value|\n",
      "+-----------+--------+-----------+-----+\n",
      "|CA007020860|20100101|       TMAX|    0|\n",
      "|CA007020860|20100101|       TMIN|  -50|\n",
      "|CA007020860|20100101|       PRCP|   30|\n",
      "|CA007020860|20100101|       SNOW|   30|\n",
      "|CA007020860|20100101|       SNWD|  120|\n",
      "|CA005030984|20100101|       TMAX| -234|\n",
      "|CA005030984|20100101|       TMIN| -276|\n",
      "|CA005030984|20100101|       PRCP|   13|\n",
      "|CA005030984|20100101|       SNWD|  380|\n",
      "|CA005023225|20100101|       PRCP|    0|\n",
      "|CA005023225|20100101|       SNOW|    0|\n",
      "|CA005023225|20100101|       SNWD|  200|\n",
      "|CA003076680|20100101|       TMAX| -168|\n",
      "|CA003076680|20100101|       TMIN| -222|\n",
      "|CA003076680|20100101|       PRCP|    4|\n",
      "|CA00306A009|20100101|       TMAX| -152|\n",
      "|CA00306A009|20100101|       TMIN| -243|\n",
      "|CA00306A009|20100101|       PRCP|    0|\n",
      "|CA00306A009|20100101|       SNOW|    0|\n",
      "|CA00306A009|20100101|       SNWD|  300|\n",
      "+-----------+--------+-----------+-----+\n",
      "only showing top 20 rows\n",
      "\n"
     ]
    }
   ],
   "source": [
    "canada_weather_data = canada_weather_data.filter(canada_weather_data['date'].like('19%') | canada_weather_data['date'].like('20%'))\n",
    "canada_weather_data.show()"
   ]
  },
  {
   "cell_type": "markdown",
   "metadata": {},
   "source": [
    "### GHCN Stations Data"
   ]
  },
  {
   "cell_type": "markdown",
   "metadata": {},
   "source": [
    "#### 2.5 Extracting Only Canada Data Using Station Name "
   ]
  },
  {
   "cell_type": "markdown",
   "metadata": {},
   "source": [
    "#### 2.6 Checking for & Eliminating Duplicates/Insufficienes in Data"
   ]
  },
  {
   "cell_type": "code",
   "execution_count": 26,
   "metadata": {},
   "outputs": [
    {
     "name": "stdout",
     "output_type": "stream",
     "text": [
      "Before Dropping Duplicates: \n",
      "9127\n",
      "After Dropping Duplicates: \n"
     ]
    },
    {
     "name": "stderr",
     "output_type": "stream",
     "text": [
      "[Stage 22:=============================>                            (1 + 1) / 2]\r"
     ]
    },
    {
     "name": "stdout",
     "output_type": "stream",
     "text": [
      "9127\n"
     ]
    },
    {
     "name": "stderr",
     "output_type": "stream",
     "text": [
      "                                                                                \r"
     ]
    }
   ],
   "source": [
    "print(\"Before Dropping Duplicates: \")\n",
    "print(canada_stations_dataframes.count())\n",
    "canada_stations_dataframes = canada_stations_dataframes.dropDuplicates()\n",
    "print(\"After Dropping Duplicates: \")\n",
    "print(canada_stations_dataframes.count())"
   ]
  },
  {
   "cell_type": "markdown",
   "metadata": {},
   "source": [
    "## ETL - Phase 3 - Load "
   ]
  },
  {
   "cell_type": "markdown",
   "metadata": {},
   "source": [
    "### 3.1 Writing back files as required"
   ]
  },
  {
   "cell_type": "code",
   "execution_count": 27,
   "metadata": {},
   "outputs": [],
   "source": [
    "canada_stations_dataframes.coalesce(1).write.option(\"header\",True) \\\n",
    "        .mode(\"overwrite\") \\\n",
    "        .csv(\"stations\")\n"
   ]
  },
  {
   "cell_type": "code",
   "execution_count": 28,
   "metadata": {},
   "outputs": [
    {
     "name": "stderr",
     "output_type": "stream",
     "text": [
      "                                                                                \r"
     ]
    }
   ],
   "source": [
    "canada_stations_dataframes.coalesce(1).write.option(\"header\",True) \\\n",
    "        .partitionBy(\"state\") \\\n",
    "        .mode(\"overwrite\") \\\n",
    "        .csv(\"stations by state\")\n"
   ]
  },
  {
   "cell_type": "markdown",
   "metadata": {},
   "source": [
    "## Data Analysis"
   ]
  },
  {
   "cell_type": "markdown",
   "metadata": {},
   "source": [
    "## Research & Hypothesis"
   ]
  },
  {
   "cell_type": "markdown",
   "metadata": {},
   "source": [
    "### Columns of Interest: \n",
    "    . PRCP = Precipitation (mm or inches as per user preference, inches to hundredths on Daily Form pdf file)\n",
    "    . TAVG = Average Temperature\n",
    "    . TMAX = Maximum temperature (Fahrenheit or Celsius as per user preference, Fahrenheit to tenths on Daily Form pdf file\n",
    "    . TMIN = Minimum temperature (Fahrenheit or Celsius as per user preference, Fahrenheit to tenths on Daily Form pdf file\n",
    "    . ACMC = Average cloudiness midnight to midnight from 30-second ceilometer data (percent)\n",
    "    . AWND = Average daily wind speed (meters per second or miles per hour as per user preference)\n",
    "    . TSUN = Daily total sunshine (minutes)\n",
    "    . WT** = Weather Type where ** has one of the following values:\n",
    "        . WT03 = Thunder\n",
    "        . WT05 = Hail (may include small hail)\n",
    "        . WT10 = Tornado, Water Spout, Funnel Cloud\n",
    "        . WT11 = High or damaging winds\n",
    "        . WT12 = Blowing Spray\n",
    "        . WT13 = Mist\n",
    "        . WT14 = Drizzle \n",
    "        . WT15 = Freezing drizzle \n",
    "        . WT16 = Rain (may include freezing rain, drizzle, and freezing drizzle)\n",
    "        . WT17 = Freezing Rain\n",
    "    . WVxx = Weather in the Vicinity where “xx” has one of the following values\n",
    "        . WV03 = Thunder\n",
    "        . WV20 = Rain or snow shower"
   ]
  },
  {
   "cell_type": "code",
   "execution_count": 29,
   "metadata": {},
   "outputs": [
    {
     "name": "stdout",
     "output_type": "stream",
     "text": [
      "+-----------+--------+-----------+-----+\n",
      "|    station|    date|observation|value|\n",
      "+-----------+--------+-----------+-----+\n",
      "|CA007020860|20100101|       TMAX|    0|\n",
      "|CA007020860|20100101|       TMIN|  -50|\n",
      "|CA007020860|20100101|       PRCP|   30|\n",
      "|CA005030984|20100101|       TMAX| -234|\n",
      "|CA005030984|20100101|       TMIN| -276|\n",
      "|CA005030984|20100101|       PRCP|   13|\n",
      "|CA005023225|20100101|       PRCP|    0|\n",
      "|CA003076680|20100101|       TMAX| -168|\n",
      "|CA003076680|20100101|       TMIN| -222|\n",
      "|CA003076680|20100101|       PRCP|    4|\n",
      "|CA00306A009|20100101|       TMAX| -152|\n",
      "|CA00306A009|20100101|       TMIN| -243|\n",
      "|CA00306A009|20100101|       PRCP|    0|\n",
      "|CA003072151|20100101|       TMAX| -190|\n",
      "|CA003072151|20100101|       TMIN| -294|\n",
      "|CA003031094|20100101|       TMAX|  -83|\n",
      "|CA003031094|20100101|       TMIN| -231|\n",
      "|CA003031094|20100101|       PRCP|    0|\n",
      "|CA002100719|20100101|       TMAX| -225|\n",
      "|CA002100719|20100101|       TMIN| -295|\n",
      "+-----------+--------+-----------+-----+\n",
      "only showing top 20 rows\n",
      "\n"
     ]
    },
    {
     "name": "stderr",
     "output_type": "stream",
     "text": [
      "[Stage 35:=====================================================>(107 + 1) / 108]\r"
     ]
    },
    {
     "name": "stdout",
     "output_type": "stream",
     "text": [
      "+-----------+--------+\n",
      "|observation|   count|\n",
      "+-----------+--------+\n",
      "|       TMIN|47601029|\n",
      "|       TMAX|47592990|\n",
      "|       PRCP|56553497|\n",
      "|       WT16|    8813|\n",
      "|       WT03|     251|\n",
      "|       WT05|      43|\n",
      "+-----------+--------+\n",
      "\n"
     ]
    },
    {
     "name": "stderr",
     "output_type": "stream",
     "text": [
      "                                                                                \r"
     ]
    }
   ],
   "source": [
    "columns_of_interest = [\"PRCP\",\"TMAX\", \"TAVG\", \"TMIN\",\"ACMC\",\"AWND\", \"TSUN\",\"WT03\",\"WT05\",\"WT10\",\"WT11\",\"WT12\",\"WT13\",\"WT14\",\"WT15\",\"WT16\",\"WT17\",\"WV03\",\"WV20\"]\n",
    "canada_weather_data =  canada_weather_data.filter(canada_weather_data.observation.isin(columns_of_interest))\n",
    "canada_weather_data.show()\n",
    "canada_weather_counts = canada_weather_data.groupBy('observation').count()\n",
    "canada_weather_counts.show()\n",
    "\n",
    "# print(canada_weather_data.count())"
   ]
  },
  {
   "cell_type": "markdown",
   "metadata": {},
   "source": [
    "Total Number of Rows In Canada Weather Data = 13753314\\\n",
    "Total Number of Rows In Canada Stations = 9217"
   ]
  },
  {
   "cell_type": "markdown",
   "metadata": {},
   "source": [
    "### Joining Weather Data with Station Data"
   ]
  },
  {
   "cell_type": "code",
   "execution_count": 30,
   "metadata": {},
   "outputs": [
    {
     "name": "stdout",
     "output_type": "stream",
     "text": [
      "+-----------+--------+-----------+-----+--------+---------+---------+-----+--------------------+\n",
      "|    station|    date|observation|value|Latitude|Longitude|Elevation|State|        Station Name|\n",
      "+-----------+--------+-----------+-----+--------+---------+---------+-----+--------------------+\n",
      "|CA007020860|20100101|       TMAX|    0| 45.4833|   -71.95|    130.0|   QC|      BROMPTONVILLE |\n",
      "|CA007020860|20100101|       TMIN|  -50| 45.4833|   -71.95|    130.0|   QC|      BROMPTONVILLE |\n",
      "|CA007020860|20100101|       PRCP|   30| 45.4833|   -71.95|    130.0|   QC|      BROMPTONVILLE |\n",
      "|CA005030984|20100101|       TMAX| -234| 52.8167| -97.6167|    223.0|   MB|GEORGE ISLAND (AUT) |\n",
      "|CA005030984|20100101|       TMIN| -276| 52.8167| -97.6167|    223.0|   MB|GEORGE ISLAND (AUT) |\n",
      "|CA005030984|20100101|       PRCP|   13| 52.8167| -97.6167|    223.0|   MB|GEORGE ISLAND (AUT) |\n",
      "|CA005023225|20100101|       PRCP|    0|   49.85| -97.2667|    238.0|   MB|WINNIPEG CHARLESW...|\n",
      "|CA003076680|20100101|       TMAX| -168|    55.1|   -117.2|    698.0|   AB|    VALLEYVIEW AGDM |\n",
      "|CA003076680|20100101|       TMIN| -222|    55.1|   -117.2|    698.0|   AB|    VALLEYVIEW AGDM |\n",
      "|CA003076680|20100101|       PRCP|    4|    55.1|   -117.2|    698.0|   AB|    VALLEYVIEW AGDM |\n",
      "|CA00306A009|20100101|       TMAX| -152|    53.4|-117.5333|   1011.0|   AB|      HINTON VALLEY |\n",
      "|CA00306A009|20100101|       TMIN| -243|    53.4|-117.5333|   1011.0|   AB|      HINTON VALLEY |\n",
      "|CA00306A009|20100101|       PRCP|    0|    53.4|-117.5333|   1011.0|   AB|      HINTON VALLEY |\n",
      "|CA003072151|20100101|       TMAX| -190|    55.8|-117.8833|    563.0|   AB|     EAGLESHAM AGCM |\n",
      "|CA003072151|20100101|       TMIN| -294|    55.8|-117.8833|    563.0|   AB|     EAGLESHAM AGCM |\n",
      "|CA003031094|20100101|       TMAX|  -83| 51.1167|-114.0167|   1081.0|   AB|   CALGARY INT'L CS |\n",
      "|CA003031094|20100101|       TMIN| -231| 51.1167|-114.0167|   1081.0|   AB|   CALGARY INT'L CS |\n",
      "|CA003031094|20100101|       PRCP|    0| 51.1167|-114.0167|   1081.0|   AB|   CALGARY INT'L CS |\n",
      "|CA002100719|20100101|       TMAX| -225|    63.6|-137.5167|    457.0|   YT|          MCQUESTEN |\n",
      "|CA002100719|20100101|       TMIN| -295|    63.6|-137.5167|    457.0|   YT|          MCQUESTEN |\n",
      "+-----------+--------+-----------+-----+--------+---------+---------+-----+--------------------+\n",
      "only showing top 20 rows\n",
      "\n"
     ]
    }
   ],
   "source": [
    "canada_weather_data = canada_weather_data.join(functions.broadcast(canada_stations_dataframes),canada_weather_data['station'] == canada_stations_dataframes['Station ID']).drop('Station ID')\n",
    "canada_weather_data.show()"
   ]
  },
  {
   "cell_type": "code",
   "execution_count": null,
   "metadata": {},
   "outputs": [],
   "source": [
    "canada_weather_data = canada_weather_data."
   ]
  },
  {
   "cell_type": "markdown",
   "metadata": {},
   "source": [
    "### Partitioning Of Data Into Required Folders For Ease Of Analysis"
   ]
  },
  {
   "cell_type": "code",
   "execution_count": 31,
   "metadata": {},
   "outputs": [
    {
     "name": "stderr",
     "output_type": "stream",
     "text": [
      "                                                                                \r"
     ]
    }
   ],
   "source": [
    "canada_weather_data.write.option(\"header\",True) \\\n",
    "        .partitionBy(\"state\") \\\n",
    "        .mode(\"overwrite\") \\\n",
    "        .csv(\"states\")"
   ]
  },
  {
   "cell_type": "code",
   "execution_count": 32,
   "metadata": {},
   "outputs": [
    {
     "name": "stderr",
     "output_type": "stream",
     "text": [
      "                                                                                \r"
     ]
    }
   ],
   "source": [
    "canada_weather_data.write.option(\"header\",True) \\\n",
    "        .partitionBy(\"observation\") \\\n",
    "        .mode(\"overwrite\") \\\n",
    "        .csv(\"observation\")"
   ]
  },
  {
   "cell_type": "code",
   "execution_count": 33,
   "metadata": {},
   "outputs": [
    {
     "name": "stderr",
     "output_type": "stream",
     "text": [
      "                                                                                \r"
     ]
    },
    {
     "name": "stdout",
     "output_type": "stream",
     "text": [
      "22/11/17 01:12:37 WARN HeartbeatReceiver: Removing executor driver with no recent heartbeats: 698076 ms exceeds timeout 120000 ms\n",
      "22/11/17 01:12:37 WARN SparkContext: Killing executors is not supported by current scheduler.\n"
     ]
    }
   ],
   "source": [
    "canada_weather_data.write.option(\"header\",True) \\\n",
    "        .partitionBy(\"state\", \"observation\") \\\n",
    "        .mode(\"overwrite\") \\\n",
    "        .csv(\"observations by state\")"
   ]
  }
 ],
 "metadata": {
  "kernelspec": {
   "display_name": "Python 3.10.4 64-bit",
   "language": "python",
   "name": "python3"
  },
  "language_info": {
   "codemirror_mode": {
    "name": "ipython",
    "version": 3
   },
   "file_extension": ".py",
   "mimetype": "text/x-python",
   "name": "python",
   "nbconvert_exporter": "python",
   "pygments_lexer": "ipython3",
   "version": "3.10.7"
  },
  "orig_nbformat": 4,
  "vscode": {
   "interpreter": {
    "hash": "aee8b7b246df8f9039afb4144a1f6fd8d2ca17a180786b69acc140d282b71a49"
   }
  }
 },
 "nbformat": 4,
 "nbformat_minor": 2
}
